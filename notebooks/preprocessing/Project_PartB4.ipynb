{
  "nbformat": 4,
  "nbformat_minor": 0,
  "metadata": {
    "colab": {
      "provenance": []
    },
    "kernelspec": {
      "name": "python3",
      "display_name": "Python 3"
    },
    "language_info": {
      "name": "python"
    }
  },
  "cells": [
    {
      "cell_type": "markdown",
      "source": [
        "**Step 1: Data Loading and Initial Exploration**\n"
      ],
      "metadata": {
        "id": "ZEJRhRkSEQIq"
      }
    },
    {
      "cell_type": "code",
      "execution_count": 1,
      "metadata": {
        "colab": {
          "base_uri": "https://localhost:8080/"
        },
        "id": "MSDygzOfwQ0S",
        "outputId": "21478efe-e60a-4ae1-bbae-f88421a6f44a"
      },
      "outputs": [
        {
          "output_type": "stream",
          "name": "stdout",
          "text": [
            "   Unnamed: 0  Snapshot ID   Snapshot Date    Checkin Date  Days  \\\n",
            "0           0            1  7/17/2015 0:00  8/12/2015 0:00     5   \n",
            "1           1            1  7/17/2015 0:00  8/19/2015 0:00     5   \n",
            "2           2            1  7/17/2015 0:00  8/13/2015 0:00     5   \n",
            "3           3            1  7/17/2015 0:00  7/26/2015 0:00     5   \n",
            "4           4            1  7/17/2015 0:00  8/12/2015 0:00     5   \n",
            "\n",
            "   Original Price  Discount Price  Discount Code  Available Rooms  \\\n",
            "0            1178            1040              1                6   \n",
            "1            1113             982              1                8   \n",
            "2            4370            4240              1                3   \n",
            "3            1739            1667              1               18   \n",
            "4            1739            1672              1                3   \n",
            "\n",
            "                               Hotel Name  Hotel Stars  DayDiff  WeekDay  \\\n",
            "0  Best Western Plus Seaport Inn Downtown            3  26 days        2   \n",
            "1  Best Western Plus Seaport Inn Downtown            3  33 days        2   \n",
            "2                  The Peninsula New York            5  27 days        3   \n",
            "3            Eventi Hotel a Kimpton Hotel            4   9 days        6   \n",
            "4            Eventi Hotel a Kimpton Hotel            4  26 days        2   \n",
            "\n",
            "   DiscountDiff  DiscountPerc  \n",
            "0           138     11.714771  \n",
            "1           131     11.769991  \n",
            "2           130      2.974828  \n",
            "3            72      4.140311  \n",
            "4            67      3.852789  \n",
            "<class 'pandas.core.frame.DataFrame'>\n",
            "RangeIndex: 68175 entries, 0 to 68174\n",
            "Data columns (total 15 columns):\n",
            " #   Column           Non-Null Count  Dtype  \n",
            "---  ------           --------------  -----  \n",
            " 0   Unnamed: 0       68175 non-null  int64  \n",
            " 1   Snapshot ID      68175 non-null  int64  \n",
            " 2   Snapshot Date    68175 non-null  object \n",
            " 3   Checkin Date     68175 non-null  object \n",
            " 4   Days             68175 non-null  int64  \n",
            " 5   Original Price   68175 non-null  int64  \n",
            " 6   Discount Price   68175 non-null  int64  \n",
            " 7   Discount Code    68175 non-null  int64  \n",
            " 8   Available Rooms  68175 non-null  int64  \n",
            " 9   Hotel Name       68175 non-null  object \n",
            " 10  Hotel Stars      68175 non-null  int64  \n",
            " 11  DayDiff          68175 non-null  object \n",
            " 12  WeekDay          68175 non-null  int64  \n",
            " 13  DiscountDiff     68175 non-null  int64  \n",
            " 14  DiscountPerc     68175 non-null  float64\n",
            "dtypes: float64(1), int64(10), object(4)\n",
            "memory usage: 7.8+ MB\n",
            "None\n",
            "Unnamed: 0         0\n",
            "Snapshot ID        0\n",
            "Snapshot Date      0\n",
            "Checkin Date       0\n",
            "Days               0\n",
            "Original Price     0\n",
            "Discount Price     0\n",
            "Discount Code      0\n",
            "Available Rooms    0\n",
            "Hotel Name         0\n",
            "Hotel Stars        0\n",
            "DayDiff            0\n",
            "WeekDay            0\n",
            "DiscountDiff       0\n",
            "DiscountPerc       0\n",
            "dtype: int64\n",
            "         Unnamed: 0    Snapshot ID     Days  Original Price  Discount Price  \\\n",
            "count  68175.000000   68175.000000  68175.0    68175.000000    68175.000000   \n",
            "mean   34087.000000     187.978658      5.0     2008.007891     1851.938717   \n",
            "std    19680.571638    1603.934482      0.0     1083.032838     1019.188793   \n",
            "min        0.000000       1.000000      5.0      300.000000      281.000000   \n",
            "25%    17043.500000      35.000000      5.0     1325.000000     1213.000000   \n",
            "50%    34087.000000     164.000000      5.0     1795.000000     1651.000000   \n",
            "75%    51130.500000     257.000000      5.0     2337.000000     2149.000000   \n",
            "max    68174.000000  417419.000000      5.0    29975.000000    28675.000000   \n",
            "\n",
            "       Discount Code  Available Rooms   Hotel Stars       WeekDay  \\\n",
            "count   68175.000000     68175.000000  68175.000000  68175.000000   \n",
            "mean        2.416311        14.987649      3.915086      2.952431   \n",
            "std         1.008634        46.226372      0.827277      1.824135   \n",
            "min         1.000000        -1.000000      0.000000      0.000000   \n",
            "25%         2.000000        -1.000000      3.000000      2.000000   \n",
            "50%         2.000000        -1.000000      4.000000      3.000000   \n",
            "75%         3.000000         7.000000      4.000000      4.000000   \n",
            "max         4.000000       431.000000      5.000000      6.000000   \n",
            "\n",
            "       DiscountDiff  DiscountPerc  \n",
            "count  68175.000000  68175.000000  \n",
            "mean     156.069175      8.039470  \n",
            "std      147.246872      5.211684  \n",
            "min       16.000000      0.581395  \n",
            "25%       72.000000      4.444444  \n",
            "50%      107.000000      6.572770  \n",
            "75%      183.000000      9.875360  \n",
            "max     3760.000000     68.425842  \n"
          ]
        }
      ],
      "source": [
        "import pandas as pd\n",
        "\n",
        "file_path = \"Hotels_data_Changed.csv\"\n",
        "df = pd.read_csv(file_path)\n",
        "\n",
        "print(df.head())\n",
        "print(df.info())\n",
        "print(df.isnull().sum())\n",
        "print(df.describe())"
      ]
    },
    {
      "cell_type": "markdown",
      "source": [
        "# **Step 2: Date Processing and Feature Engineering**  \n",
        "\n",
        "To enable accurate date-based calculations, we convert the **Snapshot Date** and **Check-in Date** columns into datetime format.  \n",
        "From these, we extract three new features that provide important temporal insights for pricing predictions:  \n",
        "\n",
        "- **Days Until Check-in** – The number of days between `Snapshot Date` (when the price was recorded) and `Checkin Date` (when the booking occurs).  \n",
        "  - This feature helps capture how prices change over time as the check-in date approaches.  \n",
        "\n",
        "- **Snapshot Month** – Extracted as the month from `Snapshot Date`.  \n",
        "  - This allows the model to learn seasonal pricing trends.  \n",
        "\n",
        "- **Check-in Month** – Extracted as the month from `Checkin Date`.  \n",
        "  - This helps the model understand peak travel months and demand fluctuations.  \n",
        "\n",
        "By incorporating these engineered date features, we align with the requirement to extract meaningful temporal patterns from the dataset, ultimately **improving model performance**.  \n"
      ],
      "metadata": {
        "id": "6dlHo8WjEkbd"
      }
    },
    {
      "cell_type": "code",
      "source": [
        "df[\"Snapshot Date\"] = pd.to_datetime(df[\"Snapshot Date\"])\n",
        "df[\"Checkin Date\"] = pd.to_datetime(df[\"Checkin Date\"])\n",
        "\n",
        "df[\"Days Until Checkin\"] = (df[\"Checkin Date\"] - df[\"Snapshot Date\"]).dt.days\n",
        "df[\"Snapshot Month\"] = df[\"Snapshot Date\"].dt.month\n",
        "df[\"Checkin Month\"] = df[\"Checkin Date\"].dt.month\n",
        "\n",
        "print(df[[\"Snapshot Date\", \"Checkin Date\", \"Days Until Checkin\", \"Snapshot Month\", \"Checkin Month\"]].head())\n",
        "print(df.info())\n"
      ],
      "metadata": {
        "colab": {
          "base_uri": "https://localhost:8080/"
        },
        "id": "JtjFfISywgUU",
        "outputId": "87275b56-c570-4469-9673-a72f2935b47c"
      },
      "execution_count": 2,
      "outputs": [
        {
          "output_type": "stream",
          "name": "stdout",
          "text": [
            "  Snapshot Date Checkin Date  Days Until Checkin  Snapshot Month  \\\n",
            "0    2015-07-17   2015-08-12                  26               7   \n",
            "1    2015-07-17   2015-08-19                  33               7   \n",
            "2    2015-07-17   2015-08-13                  27               7   \n",
            "3    2015-07-17   2015-07-26                   9               7   \n",
            "4    2015-07-17   2015-08-12                  26               7   \n",
            "\n",
            "   Checkin Month  \n",
            "0              8  \n",
            "1              8  \n",
            "2              8  \n",
            "3              7  \n",
            "4              8  \n",
            "<class 'pandas.core.frame.DataFrame'>\n",
            "RangeIndex: 68175 entries, 0 to 68174\n",
            "Data columns (total 18 columns):\n",
            " #   Column              Non-Null Count  Dtype         \n",
            "---  ------              --------------  -----         \n",
            " 0   Unnamed: 0          68175 non-null  int64         \n",
            " 1   Snapshot ID         68175 non-null  int64         \n",
            " 2   Snapshot Date       68175 non-null  datetime64[ns]\n",
            " 3   Checkin Date        68175 non-null  datetime64[ns]\n",
            " 4   Days                68175 non-null  int64         \n",
            " 5   Original Price      68175 non-null  int64         \n",
            " 6   Discount Price      68175 non-null  int64         \n",
            " 7   Discount Code       68175 non-null  int64         \n",
            " 8   Available Rooms     68175 non-null  int64         \n",
            " 9   Hotel Name          68175 non-null  object        \n",
            " 10  Hotel Stars         68175 non-null  int64         \n",
            " 11  DayDiff             68175 non-null  object        \n",
            " 12  WeekDay             68175 non-null  int64         \n",
            " 13  DiscountDiff        68175 non-null  int64         \n",
            " 14  DiscountPerc        68175 non-null  float64       \n",
            " 15  Days Until Checkin  68175 non-null  int64         \n",
            " 16  Snapshot Month      68175 non-null  int32         \n",
            " 17  Checkin Month       68175 non-null  int32         \n",
            "dtypes: datetime64[ns](2), float64(1), int32(2), int64(11), object(2)\n",
            "memory usage: 8.8+ MB\n",
            "None\n"
          ]
        }
      ]
    },
    {
      "cell_type": "markdown",
      "source": [
        "# **Step 3: Data Filtering and Outlier Removal**  \n",
        "\n",
        "To ensure **data consistency and realistic price values**, the dataset is filtered, and extreme outliers are removed.  \n",
        "The key steps in this process are:  \n",
        "\n",
        "###**Filtering Valid Discount Prices**  \n",
        "- Removing cases where the `Discount Price` is **greater than or equal to the `Original Price`**, as these entries are invalid.  \n",
        "\n",
        "###**Outlier Removal Using Percentile Filtering**  \n",
        "- We exclude extreme values based on statistical thresholds:  \n",
        "  - **1st percentile (0.01 quantile)** → Removing unusually low prices.  \n",
        "  - **99th percentile (0.99 quantile)** → Removing extremely high prices.  \n",
        "- This filtering is applied **separately** to both `Original Price` and `Discount Price`, ensuring that pricing values remain within a reasonable range.  \n",
        "\n",
        "By performing this step, we maintain a **clean and reliable dataset**, removing unrealistic price points and ensuring the model learns from meaningful, high-quality data.  \n"
      ],
      "metadata": {
        "id": "ZCjxOEQZFMcY"
      }
    },
    {
      "cell_type": "code",
      "source": [
        "df_filtered = df[[\"Snapshot Date\", \"Hotel Name\", \"Discount Code\", \"Checkin Date\", \"Original Price\", \"Discount Price\"]]\n",
        "\n",
        "df_filtered = df_filtered[df_filtered[\"Discount Price\"] < df_filtered[\"Original Price\"]]\n",
        "\n",
        "q1 = df_filtered[\"Original Price\"].quantile(0.01)\n",
        "q3 = df_filtered[\"Original Price\"].quantile(0.99)\n",
        "df_filtered = df_filtered[(df_filtered[\"Original Price\"] >= q1) & (df_filtered[\"Original Price\"] <= q3)]\n",
        "\n",
        "q1 = df_filtered[\"Discount Price\"].quantile(0.01)\n",
        "q3 = df_filtered[\"Discount Price\"].quantile(0.99)\n",
        "df_filtered = df_filtered[(df_filtered[\"Discount Price\"] >= q1) & (df_filtered[\"Discount Price\"] <= q3)]\n",
        "\n",
        "print(df_filtered.describe())\n",
        "print(df_filtered.info())\n"
      ],
      "metadata": {
        "colab": {
          "base_uri": "https://localhost:8080/"
        },
        "id": "TjlUZH8jw-2m",
        "outputId": "6c5cc1f1-8785-43ff-a547-76b44863381b"
      },
      "execution_count": 3,
      "outputs": [
        {
          "output_type": "stream",
          "name": "stdout",
          "text": [
            "                       Snapshot Date  Discount Code  \\\n",
            "count                          65541   65541.000000   \n",
            "mean   2015-08-25 06:11:22.528493824       2.425428   \n",
            "min              2015-07-17 00:00:00       1.000000   \n",
            "25%              2015-08-03 00:00:00       2.000000   \n",
            "50%              2015-08-27 00:00:00       2.000000   \n",
            "75%              2015-09-13 00:00:00       3.000000   \n",
            "max              2015-09-30 00:00:00       4.000000   \n",
            "std                              NaN       1.007606   \n",
            "\n",
            "                        Checkin Date  Original Price  Discount Price  \n",
            "count                          65541    65541.000000    65541.000000  \n",
            "mean   2015-09-11 23:57:49.492378624     1946.028211     1793.188096  \n",
            "min              2015-07-18 00:00:00      655.000000      615.000000  \n",
            "25%              2015-08-24 00:00:00     1346.000000     1230.000000  \n",
            "50%              2015-09-13 00:00:00     1795.000000     1651.000000  \n",
            "75%              2015-10-01 00:00:00     2304.000000     2119.000000  \n",
            "max              2015-11-03 00:00:00     6000.000000     5195.000000  \n",
            "std                              NaN      859.685849      807.299738  \n",
            "<class 'pandas.core.frame.DataFrame'>\n",
            "Index: 65541 entries, 0 to 68174\n",
            "Data columns (total 6 columns):\n",
            " #   Column          Non-Null Count  Dtype         \n",
            "---  ------          --------------  -----         \n",
            " 0   Snapshot Date   65541 non-null  datetime64[ns]\n",
            " 1   Hotel Name      65541 non-null  object        \n",
            " 2   Discount Code   65541 non-null  int64         \n",
            " 3   Checkin Date    65541 non-null  datetime64[ns]\n",
            " 4   Original Price  65541 non-null  int64         \n",
            " 5   Discount Price  65541 non-null  int64         \n",
            "dtypes: datetime64[ns](2), int64(3), object(1)\n",
            "memory usage: 3.5+ MB\n",
            "None\n"
          ]
        }
      ]
    },
    {
      "cell_type": "markdown",
      "source": [
        "# **Step 4: Data Filtering Based on Minimum Sample Size**  \n",
        "\n",
        "In this step, we ensure that the dataset contains **sufficient data points** for each hotel and discount code combination.  \n",
        "To achieve this, we applied the following filtering criteria:  \n",
        "\n",
        "- **Minimum Sample Count:** A threshold of **10 samples per month** was set to retain only hotels and discount codes with enough historical data.  \n",
        "- **Grouping Strategy:** Data was grouped by **Hotel Name, Discount Code, and Snapshot Month**, and only groups meeting the minimum sample requirement were kept.  \n",
        "- **Before Filtering:** The dataset contained **`len(df)`** records.  \n",
        "- **After Filtering:** The dataset was reduced to **`len(df_filtered)`** records, ensuring that only statistically meaningful data points were retained.  \n",
        "\n",
        "This filtering step helps eliminate noisy or insufficient data points, leading to a **more reliable and robust model** in the next steps.  \n"
      ],
      "metadata": {
        "id": "WWcinhpISJgs"
      }
    },
    {
      "cell_type": "code",
      "source": [
        "min_samples = 10\n",
        "\n",
        "df[\"Sample Count\"] = df.groupby([\"Hotel Name\", \"Discount Code\", \"Snapshot Month\"])[\"Snapshot Date\"].transform(\"count\")\n",
        "\n",
        "df_filtered = df[df[\"Sample Count\"] >= min_samples]\n",
        "\n",
        "print(df_filtered[[\"Hotel Name\", \"Discount Code\", \"Snapshot Month\", \"Sample Count\"]].drop_duplicates().head())\n",
        "print(\"Before filtering:\", len(df))\n",
        "print(\"After filtering:\", len(df_filtered))\n",
        "print(df_filtered.groupby([\"Hotel Name\", \"Discount Code\", \"Snapshot Month\"])[\"Snapshot Date\"].count().describe())\n",
        "\n"
      ],
      "metadata": {
        "colab": {
          "base_uri": "https://localhost:8080/"
        },
        "id": "ZIOMFVih-Fnc",
        "outputId": "60f49e7a-9854-499f-cd67-bc1eaea3b583"
      },
      "execution_count": 4,
      "outputs": [
        {
          "output_type": "stream",
          "name": "stdout",
          "text": [
            "                                           Hotel Name  Discount Code  \\\n",
            "2                              The Peninsula New York              1   \n",
            "3                        Eventi Hotel a Kimpton Hotel              1   \n",
            "5                                Grand Hyatt New York              1   \n",
            "10  DoubleTree Suites by Hilton New York City - Ti...              1   \n",
            "12                         Hampton Inn Manhattan Soho              1   \n",
            "\n",
            "    Snapshot Month  Sample Count  \n",
            "2                7            28  \n",
            "3                7            16  \n",
            "5                7            15  \n",
            "10               7            22  \n",
            "12               7            27  \n",
            "Before filtering: 68175\n",
            "After filtering: 63383\n",
            "count    1192.000000\n",
            "mean       53.173658\n",
            "std        49.173719\n",
            "min        10.000000\n",
            "25%        19.000000\n",
            "50%        37.000000\n",
            "75%        70.000000\n",
            "max       338.000000\n",
            "Name: Snapshot Date, dtype: float64\n"
          ]
        }
      ]
    },
    {
      "cell_type": "markdown",
      "source": [
        "# **Step 5: Selecting the Top 40 Hotels and Filtering Data**  \n",
        "\n",
        "To improve the reliability of our model, we focused on the **40 hotels with the highest number of samples**.  \n",
        "This ensures that predictions are based on well-represented data, reducing the impact of outliers or sparse records.  \n",
        "\n",
        "The filtering process included the following steps:  \n",
        "- **Selecting the Top 40 Hotels:** We identified the **40 hotels with the most records** in the dataset.  \n",
        "- **Filtering for Relevant Check-in Dates:** Since the task requires predictions for **up to one month in advance**, we kept only records where `Days Until Checkin` is between **1 and 30 days**.  \n",
        "\n",
        "### **Dataset Reduction Results**  \n",
        "- **Number of samples after initial filtering:** `{df_filtered.shape[0]}`  \n",
        "- **Number of samples for the top 40 hotels:** `{df_top_hotels.shape[0]}`  \n",
        "\n",
        "By focusing on well-represented hotels and relevant time frames, we ensure that the model is trained on **high-quality and meaningful data**, leading to better predictions.  \n"
      ],
      "metadata": {
        "id": "b8KCXyP5SYce"
      }
    },
    {
      "cell_type": "code",
      "source": [
        "top_hotels = df_filtered[\"Hotel Name\"].value_counts().head(40).index\n",
        "df_top_hotels = df_filtered[df_filtered[\"Hotel Name\"].isin(top_hotels)]\n",
        "df_top_hotels = df_top_hotels[(df_top_hotels[\"Days Until Checkin\"] >= 1) & (df_top_hotels[\"Days Until Checkin\"] <= 30)]\n",
        "\n",
        "\n",
        "print(f\"Number of samples after filtering: {df_filtered.shape[0]}\")\n",
        "print(f\"Number of samples for top 40 hotels: {df_top_hotels.shape[0]}\")\n"
      ],
      "metadata": {
        "colab": {
          "base_uri": "https://localhost:8080/"
        },
        "id": "WBENSumq_SHf",
        "outputId": "ddcae365-901c-4367-a499-2f5cf0aaf098"
      },
      "execution_count": 5,
      "outputs": [
        {
          "output_type": "stream",
          "name": "stdout",
          "text": [
            "Number of samples after filtering: 63383\n",
            "Number of samples for top 40 hotels: 34972\n"
          ]
        }
      ]
    },
    {
      "cell_type": "markdown",
      "source": [
        "# **Step 6: Feature Engineering – Discount Calculation & Categorical Encoding**  \n",
        "\n",
        "To improve the model, we engineered additional features that enhance prediction accuracy:  \n",
        "\n",
        "- **Discount Percentage** – Calculated as:  \n",
        "  \\[\n",
        "  \\text{Discount Percentage} = \\frac{\\text{Original Price} - \\text{Discount Price}}{\\text{Original Price}}\n",
        "  \\]\n",
        "  This represents the relative discount applied to each hotel booking.  \n",
        "\n",
        "- **Snapshot & Check-in Weekday** – Extracted from the respective dates, allowing the model to capture weekly pricing patterns.  \n",
        "\n",
        "- **Categorical Encoding** – Since machine learning models require numerical inputs, the categorical variables:  \n",
        "  - `Hotel Name`  \n",
        "  - `Discount Code`  \n",
        "  were converted into numerical codes using **categorical encoding**.  \n",
        "\n",
        "This step ensures that the dataset is **numerically structured** while preserving essential pricing patterns, leading to a more **robust and effective predictive model**.  \n"
      ],
      "metadata": {
        "id": "B7hba_GpGBK_"
      }
    },
    {
      "cell_type": "code",
      "source": [
        "import pandas as pd\n",
        "\n",
        "df_filtered = df_filtered.copy()\n",
        "\n",
        "df_filtered.loc[:, \"Discount Percentage\"] = (df_filtered[\"Original Price\"] - df_filtered[\"Discount Price\"]) / df_filtered[\"Original Price\"]\n",
        "\n",
        "df_filtered.loc[:, \"Snapshot Weekday\"] = df_filtered[\"Snapshot Date\"].dt.weekday\n",
        "df_filtered.loc[:, \"Checkin Weekday\"] = df_filtered[\"Checkin Date\"].dt.weekday\n",
        "\n",
        "df_filtered.loc[:, \"Hotel Name\"] = df_filtered[\"Hotel Name\"].astype(\"category\").cat.codes\n",
        "df_filtered.loc[:, \"Discount Code\"] = df_filtered[\"Discount Code\"].astype(\"category\").cat.codes\n",
        "\n",
        "print(df_filtered.head())\n",
        "print(df_filtered.info())\n"
      ],
      "metadata": {
        "colab": {
          "base_uri": "https://localhost:8080/"
        },
        "id": "TgJtZ71RxkuY",
        "outputId": "eab16d11-800f-4b78-f107-dc06f57b8b1d"
      },
      "execution_count": 6,
      "outputs": [
        {
          "output_type": "stream",
          "name": "stdout",
          "text": [
            "   Unnamed: 0  Snapshot ID Snapshot Date Checkin Date  Days  Original Price  \\\n",
            "2           2            1    2015-07-17   2015-08-13     5            4370   \n",
            "3           3            1    2015-07-17   2015-07-26     5            1739   \n",
            "4           4            1    2015-07-17   2015-08-12     5            1739   \n",
            "5           5            1    2015-07-17   2015-08-07     5            1436   \n",
            "6           6            1    2015-07-17   2015-08-09     5            1616   \n",
            "\n",
            "   Discount Price  Discount Code  Available Rooms Hotel Name  ...  WeekDay  \\\n",
            "2            4240              0                3        172  ...        3   \n",
            "3            1667              0               18         37  ...        6   \n",
            "4            1672              0                3         37  ...        2   \n",
            "5            1345              0                9         47  ...        4   \n",
            "6            1525              0                5         47  ...        6   \n",
            "\n",
            "  DiscountDiff  DiscountPerc  Days Until Checkin  Snapshot Month  \\\n",
            "2          130      2.974828                  27               7   \n",
            "3           72      4.140311                   9               7   \n",
            "4           67      3.852789                  26               7   \n",
            "5           91      6.337047                  21               7   \n",
            "6           91      5.631188                  23               7   \n",
            "\n",
            "   Checkin Month  Sample Count  Discount Percentage  Snapshot Weekday  \\\n",
            "2              8            28             0.029748                 4   \n",
            "3              7            16             0.041403                 4   \n",
            "4              8            16             0.038528                 4   \n",
            "5              8            15             0.063370                 4   \n",
            "6              8            15             0.056312                 4   \n",
            "\n",
            "   Checkin Weekday  \n",
            "2                3  \n",
            "3                6  \n",
            "4                2  \n",
            "5                4  \n",
            "6                6  \n",
            "\n",
            "[5 rows x 22 columns]\n",
            "<class 'pandas.core.frame.DataFrame'>\n",
            "Index: 63383 entries, 2 to 68174\n",
            "Data columns (total 22 columns):\n",
            " #   Column               Non-Null Count  Dtype         \n",
            "---  ------               --------------  -----         \n",
            " 0   Unnamed: 0           63383 non-null  int64         \n",
            " 1   Snapshot ID          63383 non-null  int64         \n",
            " 2   Snapshot Date        63383 non-null  datetime64[ns]\n",
            " 3   Checkin Date         63383 non-null  datetime64[ns]\n",
            " 4   Days                 63383 non-null  int64         \n",
            " 5   Original Price       63383 non-null  int64         \n",
            " 6   Discount Price       63383 non-null  int64         \n",
            " 7   Discount Code        63383 non-null  int64         \n",
            " 8   Available Rooms      63383 non-null  int64         \n",
            " 9   Hotel Name           63383 non-null  object        \n",
            " 10  Hotel Stars          63383 non-null  int64         \n",
            " 11  DayDiff              63383 non-null  object        \n",
            " 12  WeekDay              63383 non-null  int64         \n",
            " 13  DiscountDiff         63383 non-null  int64         \n",
            " 14  DiscountPerc         63383 non-null  float64       \n",
            " 15  Days Until Checkin   63383 non-null  int64         \n",
            " 16  Snapshot Month       63383 non-null  int32         \n",
            " 17  Checkin Month        63383 non-null  int32         \n",
            " 18  Sample Count         63383 non-null  int64         \n",
            " 19  Discount Percentage  63383 non-null  float64       \n",
            " 20  Snapshot Weekday     63383 non-null  int32         \n",
            " 21  Checkin Weekday      63383 non-null  int32         \n",
            "dtypes: datetime64[ns](2), float64(2), int32(4), int64(12), object(2)\n",
            "memory usage: 10.2+ MB\n",
            "None\n"
          ]
        }
      ]
    },
    {
      "cell_type": "markdown",
      "source": [
        "# **Step 7: Splitting Data into Training and Testing Sets**\n",
        "\n",
        "At this stage, the dataset is divided into training and testing sets to evaluate the model’s performance. To ensure a fair and balanced learning process, we applied the following steps:\n",
        "\n",
        "- **Feature selection (X):** We excluded non-predictive columns such as `Snapshot Date` and `Checkin Date`, as they are not needed for predicting the target variable. The target variable is `Discount Price`.\n",
        "- **Target variable (y):** The model predicts `Discount Price`.\n",
        "- **Data split:**\n",
        "  - **80% training, 20% testing** → Ensures a well-balanced dataset for learning and evaluation.\n",
        "  - **Fixed random state (42)** → Guarantees reproducibility of results.\n",
        "\n",
        "## Dataset Split Results:\n",
        "\n",
        "- **Training Set Size:** {X_train.shape}\n",
        "- **Testing Set Size:** {X_test.shape}\n",
        "\n",
        "This step successfully prepares the dataset for **model training and performance evaluation**.\n"
      ],
      "metadata": {
        "id": "p41yJTpXGpk3"
      }
    },
    {
      "cell_type": "code",
      "source": [
        "from sklearn.model_selection import train_test_split\n",
        "\n",
        "X = df_top_hotels.drop(columns=[\"Snapshot Date\", \"Checkin Date\", \"Discount Price\"])\n",
        "y = df_top_hotels[\"Discount Price\"]\n",
        "\n",
        "X_train_top, X_test_top, y_train_top, y_test_top = train_test_split(X, y, test_size=0.2, random_state=42)\n"
      ],
      "metadata": {
        "id": "2mOlQlWuzt7V"
      },
      "execution_count": 20,
      "outputs": []
    },
    {
      "cell_type": "code",
      "source": [
        "from sklearn.preprocessing import LabelEncoder\n",
        "\n",
        "hotel_encoder = LabelEncoder()\n",
        "discount_encoder = LabelEncoder()\n",
        "\n",
        "df_top_hotels[\"Hotel Name\"] = hotel_encoder.fit_transform(df_top_hotels[\"Hotel Name\"])\n",
        "df_top_hotels[\"Discount Code\"] = discount_encoder.fit_transform(df_top_hotels[\"Discount Code\"])\n"
      ],
      "metadata": {
        "id": "icKQoKVuKTSx"
      },
      "execution_count": 15,
      "outputs": []
    },
    {
      "cell_type": "markdown",
      "source": [
        "# **Step 8: Model Evaluation and Performance Analysis**\n",
        "\n",
        "In this step, we evaluate the performance of the **Random Forest Regression model**, which was selected as the final model due to its superior performance.\n",
        "\n",
        "The model was trained using a filtered dataset that meets the following criteria:\n",
        "\n",
        "- **Minimum Sample Size:** The dataset includes only hotel and discount code combinations that have at least **10 samples per month**, ensuring reliable predictions.\n",
        "- **Prediction Window:** The model was trained to predict discount prices for check-in dates **up to one month in advance**, in alignment with the problem's requirements.\n",
        "- **Feature Selection:** The dataset was carefully processed, removing unnecessary columns while retaining meaningful features such as `Hotel Name`, `Discount Code`, `Original Price`, and `Days Until Check-in`.\n",
        "\n",
        "## **Performance Metrics**\n",
        "\n",
        "To evaluate the model, we used two key performance metrics:\n",
        "\n",
        "- **Mean Absolute Error (MAE):** Measures the average absolute difference between predicted and actual discount prices. A lower value indicates better accuracy.\n",
        "- **R² Score (Coefficient of Determination):** Measures how well the model explains the variance in discount prices, where a score closer to 1 indicates a better fit.\n",
        "\n",
        "### **Final Model Performance:**\n",
        "\n",
        "- **Mean Absolute Error (MAE):** **5.14 USD**\n",
        "- **R² Score:** **0.9385**\n",
        "\n",
        "These results indicate that the **Random Forest model provides highly accurate predictions**, with a minimal average error of **5.14 USD** and an **R² score of 0.9385**, meaning the model explains **93.85% of the variance** in discount prices.\n",
        "\n",
        " However, given the current results, this model successfully meets the project’s requirements for **accurate discount price predictions**.\n"
      ],
      "metadata": {
        "id": "UspNCdm_I85Y"
      }
    },
    {
      "cell_type": "code",
      "source": [
        "from sklearn.preprocessing import StandardScaler\n",
        "from sklearn.ensemble import RandomForestRegressor\n",
        "from sklearn.metrics import mean_absolute_error, r2_score\n",
        "\n",
        "X_train_numeric = X_train_top.select_dtypes(include=['number'])\n",
        "X_test_numeric = X_test_top.select_dtypes(include=['number'])\n",
        "\n",
        "scaler = StandardScaler()\n",
        "\n",
        "X_train_scaled = scaler.fit_transform(X_train_numeric)\n",
        "X_test_scaled = scaler.transform(X_test_numeric)\n",
        "\n",
        "model_rf = RandomForestRegressor(n_estimators=100, random_state=42)\n",
        "\n",
        "model_rf.fit(X_train_scaled, y_train_top)\n",
        "\n",
        "y_pred_rf = model_rf.predict(X_test_scaled)\n",
        "\n",
        "mae_rf = mean_absolute_error(y_test_top, y_pred_rf)\n",
        "r2_rf = r2_score(y_test_top, y_pred_rf)\n",
        "\n",
        "print(f\"Mean Absolute Error (Random Forest): {mae_rf:.2f}\")\n",
        "print(f\"R2 Score (Random Forest): {r2_rf:.4f}\")\n"
      ],
      "metadata": {
        "colab": {
          "base_uri": "https://localhost:8080/"
        },
        "id": "_oKogueP2fod",
        "outputId": "70bf1b55-c102-4512-cf18-ebf817ff6495"
      },
      "execution_count": 19,
      "outputs": [
        {
          "output_type": "stream",
          "name": "stdout",
          "text": [
            "Mean Absolute Error (Random Forest): 5.14\n",
            "R2 Score (Random Forest): 0.9385\n"
          ]
        }
      ]
    }
  ]
}